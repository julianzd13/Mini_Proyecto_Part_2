{
  "nbformat": 4,
  "nbformat_minor": 0,
  "metadata": {
    "colab": {
      "name": "clasificacionLineal_V2.ipynb",
      "provenance": [],
      "collapsed_sections": [
        "gwkh_DkRzK6f",
        "M79KPic2zK6f"
      ]
    },
    "kernelspec": {
      "display_name": "Python 3",
      "language": "python",
      "name": "python3"
    },
    "language_info": {
      "codemirror_mode": {
        "name": "ipython",
        "version": 3
      },
      "file_extension": ".py",
      "mimetype": "text/x-python",
      "name": "python",
      "nbconvert_exporter": "python",
      "pygments_lexer": "ipython3",
      "version": "3.8.5"
    }
  },
  "cells": [
    {
      "cell_type": "markdown",
      "metadata": {
        "id": "kmywhML5hNcV"
      },
      "source": [
        "# MINIPRYECTO 2 SEÑALES III\n",
        "\n",
        "---\n",
        "\n",
        "**Julian Andres Zapata Díaz**\n",
        "\n",
        "**Juan Daniel Gonzalez puerta**\n",
        "\n",
        "*Universidad de Antioquia*\n",
        "\n",
        "2020"
      ]
    },
    {
      "cell_type": "markdown",
      "metadata": {
        "id": "AwnZM2IKzqwq"
      },
      "source": [
        "# Modelos de Variable Latente y Clasificadores Lineales para el Reconocimiento de Rasgos\n",
        "\n",
        "Sea un data set $\\bf{X}\\in \\mathbb{R}^{N\\times D}$\n",
        "\n",
        "Y una matriz de etiquetas con notación 1 de K: $\\bf{T}\\in \\mathbb{Z}^{N\\times K}$"
      ]
    },
    {
      "cell_type": "code",
      "metadata": {
        "id": "q7KiSSXnzmji"
      },
      "source": [
        "#importamos todas las librerias necesarias\n",
        "\n",
        "import numpy as np\n",
        "import matplotlib.pyplot as plt\n",
        "from sklearn.datasets import load_iris\n",
        "import scipy.io as sc\n",
        "import pickle\n",
        "import pandas as pd\n",
        "from sklearn.preprocessing import scale\n",
        "from sklearn.decomposition import PCA\n",
        "from google.colab import drive\n",
        "import collections\n",
        "import seaborn as sns\n",
        "from sklearn.naive_bayes import GaussianNB\n",
        "from  sklearn.linear_model import LogisticRegression\n",
        "from sklearn.metrics import confusion_matrix\n",
        "from sklearn.metrics import accuracy_score\n",
        "from sklearn.model_selection import train_test_split\n",
        "from sklearn.datasets import fetch_lfw_people\n"
      ],
      "execution_count": 1,
      "outputs": []
    },
    {
      "cell_type": "code",
      "metadata": {
        "colab": {
          "base_uri": "https://localhost:8080/"
        },
        "id": "9ZgoQnH53aOC",
        "outputId": "09b31145-1aa3-4db9-8eb3-514f0f530ea8"
      },
      "source": [
        "#cargamos nuestra base de datos\n",
        "\n",
        "\n",
        "#cargar los archivos Julian y Santiago\n",
        "\n",
        "'''\n",
        "dataset = pd.read_pickle('./featcomplete.pkl') \n",
        "'''\n",
        "\n",
        "#cargar los archivos Daniel\n",
        "\n",
        "drive.mount('/content/drive') #montar el drive\n",
        "ruta = '/content/drive/My Drive/Datos_señalesIIi/' #ruta de la base de datos\n",
        "fileName = 'featcomplete.pkl' #nombre de la base de datos de todos los sujetos "
      ],
      "execution_count": 2,
      "outputs": [
        {
          "output_type": "stream",
          "text": [
            "Drive already mounted at /content/drive; to attempt to forcibly remount, call drive.mount(\"/content/drive\", force_remount=True).\n"
          ],
          "name": "stdout"
        }
      ]
    },
    {
      "cell_type": "code",
      "metadata": {
        "id": "P87Vq3ozzK6b"
      },
      "source": [
        "dataset = pd.read_pickle(ruta+fileName) #cargar el archivo\n",
        "\n",
        "Etiquetas = dataset['EMOCIÓN'] #etiquetas\n",
        "Etiquetas = np.array(Etiquetas.values) #extracion del valor de las etiquetas\n",
        "\n",
        "X =  dataset.drop(['EMOCIÓN'],axis=1) #datos\n",
        "X = X.values #extracion del valor de los datos\n",
        "\n",
        "X = scale(X)\n",
        "\n",
        "# Normalizamos nuestros datos\n",
        "means = np.mean(X, axis=0)\n",
        "stds = np.std(X, axis=0)\n",
        " \n",
        "X = (X - means)/stds #normalizacon"
      ],
      "execution_count": 3,
      "outputs": []
    },
    {
      "cell_type": "markdown",
      "metadata": {
        "id": "N_DNnjDR5tnl"
      },
      "source": [
        "Para poder realizar un buen procesamiento de clasificacion a nuestra base de datos es importante saber que la base de datos que tenemos es la base de datos del [miniproyecto 1](https://classroom.google.com/u/0/c/MTU2MjE0NjIzNjY3/a/MTU2MjQwMzc0NDQ3/details) para 10 sujetos:\n",
        "\n",
        "\n",
        "*   sujeto0 = s17.mat\n",
        "*   sujeto1 = s16.mat\n",
        "*   sujeto2 = s15.mat\n",
        "*   sujeto3 = s14.mat\n",
        "*   sujeto4 = s13.mat\n",
        "*   sujeto5 = s11.mat\n",
        "*   sujeto6 = s09.mat\n",
        "*   sujeto7 = s06.mat\n",
        "*   sujeto8 = s04.mat\n",
        "*   sujeto9 = s03.mat\n",
        "\n",
        "Vamos a subdividir la base de datos en cada sujeto, la base de datos tiene un tamaño de 400 observaciones por 65 caracteristicas y como a cada sujeto le corresponden 40 observaciones lo que haremos es separarlos cada 40 observaciones. esto es con el fin de seleccionar diferentes permutaciones para los datos de entrenamiento y los de validación y observar sus diferentes comportamientos."
      ]
    },
    {
      "cell_type": "code",
      "metadata": {
        "colab": {
          "base_uri": "https://localhost:8080/"
        },
        "id": "uZRI9jDBzK6b",
        "outputId": "bd2b087e-cd22-457e-a41f-b4d38d95de6d"
      },
      "source": [
        "#agrupamos los datos y las etiquetas de cada sujeto\n",
        "X0 = X[:40] #sujeto0\n",
        "X1 = X[40:80] #sujeto1\n",
        "X2 = X[80:120] #sujeto2\n",
        "X3 = X[120:160] #sujeto3\n",
        "X4 = X[160:200] #sujeto4\n",
        "X5 = X[200:240] #sujeto5\n",
        "X6 = X[240:280] #sujeto6\n",
        "X7 = X[280:320] #sujeto7\n",
        "X8 = X[320:360] #sujeto8\n",
        "X9 = X[360:400] #sujeto9\n",
        "\n",
        "Etiquetas0 = Etiquetas[:40] #etiquetas del sujeto0\n",
        "Etiquetas1 = Etiquetas[40:80] #etiquetas del sujeto1\n",
        "Etiquetas2 = Etiquetas[80:120] #etiquetas del sujeto2\n",
        "Etiquetas3 = Etiquetas[120:160] #etiquetas del sujeto3\n",
        "Etiquetas4 = Etiquetas[160:200] #etiquetas del sujeto4\n",
        "Etiquetas5 = Etiquetas[200:240] #etiquetas del sujeto5\n",
        "Etiquetas6 = Etiquetas[240:280] #etiquetas del sujeto6\n",
        "Etiquetas7 = Etiquetas[280:320] #etiquetas del sujeto7\n",
        "Etiquetas8 = Etiquetas[320:360] #etiquetas del sujeto8\n",
        "Etiquetas9 = Etiquetas[360:400] #etiquetas del sujeto9\n",
        "\n",
        "print('\\n sujeto0 ',collections.Counter(Etiquetas0))\n",
        "print('\\n sujeto1 ',collections.Counter(Etiquetas1))\n",
        "print('\\n sujeto2 ',collections.Counter(Etiquetas2))\n",
        "print('\\n sujeto3 ',collections.Counter(Etiquetas3))\n",
        "print('\\n sujeto4 ',collections.Counter(Etiquetas4))\n",
        "print('\\n sujeto5 ',collections.Counter(Etiquetas5))\n",
        "print('\\n sujeto6 ',collections.Counter(Etiquetas6))\n",
        "print('\\n sujeto7 ',collections.Counter(Etiquetas7))\n",
        "print('\\n sujeto8 ',collections.Counter(Etiquetas8))\n",
        "print('\\n sujeto9 ',collections.Counter(Etiquetas9))\n",
        "\n",
        "a = np.concatenate((X0,X2,X3,X4,X5,X8,X9), axis = 0)  #concatenamos los datos de entrenamiento\n",
        "b = np.concatenate((X1,X6,X7), axis = 0)  #concatenamos los datos de validacion\n",
        "c = np.concatenate((Etiquetas0,Etiquetas2,Etiquetas3,Etiquetas4,Etiquetas5,Etiquetas8,Etiquetas9), axis = None)  #concatenamos las etiquetas de entrenamiento\n",
        "d = np.concatenate((Etiquetas1,Etiquetas6,Etiquetas7), axis = None)   #concatenamos las etiquetas de validacion\n",
        "\n",
        "XTrain = a #datos de netrenamiento\n",
        "XTest = b #datos de validacion\n",
        "\n",
        "EtiquetasTrain = c #etiquetas de entrenamiento\n",
        "EtiquetasTest = d #etiquetas de validacion"
      ],
      "execution_count": 4,
      "outputs": [
        {
          "output_type": "stream",
          "text": [
            "\n",
            " sujeto0  Counter({'neutral': 29, 'positiva': 3, 'satisfecho': 3, 'tranquilid': 3, 'sorpresa': 2})\n",
            "\n",
            " sujeto1  Counter({'neutral': 16, 'tristeza': 9, 'tranquilid': 7, 'sorpresa': 3, 'satisfecho': 2, 'Stress': 2, 'negativa': 1})\n",
            "\n",
            " sujeto2  Counter({'neutral': 15, 'satisfecho': 13, 'tristeza': 4, 'calm': 2, 'tranquilid': 2, 'sorpresa': 2, 'positiva': 1, 'Stress': 1})\n",
            "\n",
            " sujeto3  Counter({'satisfecho': 10, 'neutral': 10, 'tristeza': 10, 'sorpresa': 3, 'positiva': 2, 'tranquilid': 2, 'Stress': 1, 'calm': 1, 'negativa': 1})\n",
            "\n",
            " sujeto4  Counter({'sorpresa': 9, 'Stress': 8, 'neutral': 7, 'satisfecho': 6, 'positiva': 5, 'tristeza': 3, 'tranquilid': 2})\n",
            "\n",
            " sujeto5  Counter({'tranquilid': 13, 'neutral': 10, 'satisfecho': 6, 'Stress': 5, 'calm': 3, 'negativa': 2, 'tristeza': 1})\n",
            "\n",
            " sujeto6  Counter({'neutral': 29, 'satisfecho': 4, 'positiva': 3, 'tristeza': 2, 'Stress': 1, 'sorpresa': 1})\n",
            "\n",
            " sujeto7  Counter({'neutral': 23, 'satisfecho': 12, 'positiva': 2, 'calm': 1, 'tranquilid': 1, 'sorpresa': 1})\n",
            "\n",
            " sujeto8  Counter({'negativa': 14, 'neutral': 13, 'tristeza': 4, 'positiva': 3, 'satisfecho': 3, 'tranquilid': 2, 'sorpresa': 1})\n",
            "\n",
            " sujeto9  Counter({'neutral': 20, 'tranquilid': 8, 'satisfecho': 7, 'calm': 4, 'sorpresa': 1})\n"
          ],
          "name": "stdout"
        }
      ]
    },
    {
      "cell_type": "markdown",
      "metadata": {
        "id": "qLH8HTD-786B"
      },
      "source": [
        "## Observaciones\n",
        "* Al contar la catidad de veces que se repite cada emocion tanto para la base de datos completa como para cada sujeto, observamos que la emocion \"neutral\" es la que presenta más frecuencia y siendo sorpresa la que en promedio menos aparece.\n",
        "\n",
        "* tambien cabe destacar que solamente el sujeto3 tiene presencia de las 9 emociones."
      ]
    },
    {
      "cell_type": "markdown",
      "metadata": {
        "id": "SqZwDigxzK6b"
      },
      "source": [
        "## 1. Sistema de an ́alisis de se ̃nales fisiológicas en el contexto Emocional."
      ]
    },
    {
      "cell_type": "markdown",
      "metadata": {
        "id": "NMVHddQBzK6b"
      },
      "source": [
        "### **Modelo PCA**"
      ]
    },
    {
      "cell_type": "markdown",
      "metadata": {
        "id": "7lFJzZdF-MeD"
      },
      "source": [
        "Principal Component Analysis (PCA) es un método estadístico que permite simplificar la complejidad de espacios muestrales con muchas dimensiones a la vez que conserva su información. [PCA](https://www.cienciadedatos.net/documentos/35_principal_component_analysis)\n",
        "\n",
        "El método de PCA permite por lo tanto “condensar” la información aportada por múltiples variables en solo unas pocas componentes. Esto lo convierte en un método muy útil de aplicar previa utilización de otras técnicas estadísticas tales como regresión, clustering… Aun así no hay que olvidar que sigue siendo necesario disponer del valor de las variables originales para calcular las componentes.\n"
      ]
    },
    {
      "cell_type": "code",
      "metadata": {
        "colab": {
          "base_uri": "https://localhost:8080/",
          "height": 313
        },
        "id": "3PIVkK0ZzK6d",
        "outputId": "e5dc9adc-b98e-43ed-b3af-080d2d284dc5"
      },
      "source": [
        "pca = PCA().fit(X) #entrenamiento del modelo\n",
        "varExp = pca.explained_variance_ratio_ \n",
        "print(varExp.shape,'\\n Explained variance',np.sum(varExp[:50]))\n",
        "plt.plot(np.cumsum(pca.explained_variance_ratio_))\n",
        "plt.xlabel('number of components')\n",
        "plt.ylabel('cumulative explained variance');"
      ],
      "execution_count": 5,
      "outputs": [
        {
          "output_type": "stream",
          "text": [
            "(65,) \n",
            " Explained variance 0.9999948331521086\n"
          ],
          "name": "stdout"
        },
        {
          "output_type": "display_data",
          "data": {
            "image/png": "[encoded data removed]",
            "text/plain": [
              "<Figure size 432x288 with 1 Axes>"
            ]
          },
          "metadata": {
            "tags": [],
            "needs_background": "light"
          }
        }
      ]
    },
    {
      "cell_type": "markdown",
      "metadata": {
        "id": "oyGAWevlzK6d"
      },
      "source": [
        "## Observacion\n",
        "* El numero de dimensiones neserarias para lograr una varianza acumulada de los datos de aprox 95% es de 16. "
      ]
    },
    {
      "cell_type": "code",
      "metadata": {
        "colab": {
          "base_uri": "https://localhost:8080/"
        },
        "id": "gWQYfnAUzK6d",
        "outputId": "cc32ee10-a9bb-4c28-df10-a354c2bc446f"
      },
      "source": [
        "pca = PCA(16,svd_solver='randomized') # Version rapida para calculo de la matriz de covarianza (SVD), para grandes dimensiones.\n",
        "pca.fit(X) #entrenamiento"
      ],
      "execution_count": 6,
      "outputs": [
        {
          "output_type": "execute_result",
          "data": {
            "text/plain": [
              "PCA(copy=True, iterated_power='auto', n_components=16, random_state=None,\n",
              "    svd_solver='randomized', tol=0.0, whiten=False)"
            ]
          },
          "metadata": {
            "tags": []
          },
          "execution_count": 6
        }
      ]
    },
    {
      "cell_type": "code",
      "metadata": {
        "colab": {
          "base_uri": "https://localhost:8080/",
          "height": 282
        },
        "id": "UsOSWzRszK6d",
        "outputId": "e4678af1-177c-45d5-f649-7a58679ab497"
      },
      "source": [
        "projected = pca.fit_transform(X)\n",
        "\n",
        "plt.plot(np.cumsum(pca.explained_variance_))"
      ],
      "execution_count": 7,
      "outputs": [
        {
          "output_type": "execute_result",
          "data": {
            "text/plain": [
              "[<matplotlib.lines.Line2D at 0x7f901eafd390>]"
            ]
          },
          "metadata": {
            "tags": []
          },
          "execution_count": 7
        },
        {
          "output_type": "display_data",
          "data": {
            "image/png": "[encoded data removed]",
            "text/plain": [
              "<Figure size 432x288 with 1 Axes>"
            ]
          },
          "metadata": {
            "tags": [],
            "needs_background": "light"
          }
        }
      ]
    },
    {
      "cell_type": "code",
      "metadata": {
        "colab": {
          "base_uri": "https://localhost:8080/",
          "height": 283
        },
        "id": "9hUkMXmnzK6e",
        "outputId": "fb99b42d-6030-4b92-8141-92cffd4e822d"
      },
      "source": [
        "\n",
        "for i in range(400):\n",
        "  if(Etiquetas[i]==\"negativa\"):\n",
        "    Etiquetas[i]=1\n",
        "  if(Etiquetas[i]==\"neutral\"):\n",
        "    Etiquetas[i]=2\n",
        "  if(Etiquetas[i]==\"positiva\"):\n",
        "    Etiquetas[i]=3\n",
        "  if(Etiquetas[i]==\"Stress\"):\n",
        "    Etiquetas[i]=4\n",
        "  if(Etiquetas[i]==\"calm\"):\n",
        "    Etiquetas[i]=5\n",
        "  if(Etiquetas[i]==\"tristeza\"):\n",
        "    Etiquetas[i]=6\n",
        "  if(Etiquetas[i]==\"satisfecho\"):\n",
        "    Etiquetas[i]=7\n",
        "  if(Etiquetas[i]==\"tranquilid\"):\n",
        "    Etiquetas[i]=8\n",
        "  if(Etiquetas[i]==\"sorpresa\"):\n",
        "    Etiquetas[i]=9\n",
        "\n",
        "\n",
        "plt.scatter(projected[:, 0], projected[:, 1], # grafica todos los puntos de la coordenada x ([:, 0]) y los puntos de la coordenada y\n",
        "            c=Etiquetas, edgecolor='none', alpha=0.5,\n",
        "            cmap=plt.cm.get_cmap('tab10', 9)) # color map de 10 por q se que hay 10 clases\n",
        "plt.xlabel('component 1')\n",
        "plt.ylabel('component 2')\n",
        "plt.colorbar();"
      ],
      "execution_count": 8,
      "outputs": [
        {
          "output_type": "display_data",
          "data": {
            "image/png": "[encoded data removed]",
            "text/plain": [
              "<Figure size 432x288 with 2 Axes>"
            ]
          },
          "metadata": {
            "tags": [],
            "needs_background": "light"
          }
        }
      ]
    },
    {
      "cell_type": "code",
      "metadata": {
        "colab": {
          "base_uri": "https://localhost:8080/",
          "height": 330
        },
        "id": "hDekjk8dzK6e",
        "outputId": "b3431727-eeae-4e23-b0b1-43dbaf56fb12"
      },
      "source": [
        "plt.plot(np.cumsum(pca.explained_variance_ratio_))\n",
        "plt.xlabel('number of components')\n",
        "plt.ylabel('cumulative explained variance');\n",
        "print(np.cumsum(pca.explained_variance_ratio_))"
      ],
      "execution_count": 9,
      "outputs": [
        {
          "output_type": "stream",
          "text": [
            "[0.35745625 0.5389492  0.63751958 0.68596929 0.73182334 0.76996594\n",
            " 0.80195808 0.82834248 0.85129238 0.86957419 0.88749055 0.90453299\n",
            " 0.91769225 0.92922909 0.94040873 0.95019334]\n"
          ],
          "name": "stdout"
        },
        {
          "output_type": "display_data",
          "data": {
            "image/png": "[encoded data removed]",
            "text/plain": [
              "<Figure size 432x288 with 1 Axes>"
            ]
          },
          "metadata": {
            "tags": [],
            "needs_background": "light"
          }
        }
      ]
    },
    {
      "cell_type": "code",
      "metadata": {
        "id": "9EdCM4XKzK6e"
      },
      "source": [
        "Etiquetas = dataset['EMOCIÓN'] #extracion de las etiquetas\n",
        "Etiquetas = np.array(Etiquetas.values) #extracion de los valores de las etiquetas\n",
        "datapca = pd.DataFrame(projected) #creacion del dataset para PCA\n",
        "labels  = dataset['EMOCIÓN'] \n",
        "datapca['EMOCIÓN'] = Etiquetas\n"
      ],
      "execution_count": 10,
      "outputs": []
    },
    {
      "cell_type": "code",
      "metadata": {
        "colab": {
          "base_uri": "https://localhost:8080/"
        },
        "id": "gMbZ_xHRzK6e",
        "outputId": "a34eb878-9e09-4016-a446-eb73b8d56ae9"
      },
      "source": [
        "print(projected.shape)\n",
        "Recovery = pca.inverse_transform(projected)\n",
        "print(Recovery.shape)\n",
        "\n",
        "print(X.shape)"
      ],
      "execution_count": 11,
      "outputs": [
        {
          "output_type": "stream",
          "text": [
            "(400, 16)\n",
            "(400, 65)\n",
            "(400, 65)\n"
          ],
          "name": "stdout"
        }
      ]
    },
    {
      "cell_type": "code",
      "metadata": {
        "colab": {
          "base_uri": "https://localhost:8080/",
          "height": 439
        },
        "id": "v4_WGhj5zK6e",
        "outputId": "b203e395-7ff3-494a-c895-30c7fbd4e1a6"
      },
      "source": [
        "datapca"
      ],
      "execution_count": 12,
      "outputs": [
        {
          "output_type": "execute_result",
          "data": {
            "text/html": [
              "<div>\n",
              "<style scoped>\n",
              "    .dataframe tbody tr th:only-of-type {\n",
              "        vertical-align: middle;\n",
              "    }\n",
              "\n",
              "    .dataframe tbody tr th {\n",
              "        vertical-align: top;\n",
              "    }\n",
              "\n",
              "    .dataframe thead th {\n",
              "        text-align: right;\n",
              "    }\n",
              "</style>\n",
              "<table border=\"1\" class=\"dataframe\">\n",
              "  <thead>\n",
              "    <tr style=\"text-align: right;\">\n",
              "      <th></th>\n",
              "      <th>0</th>\n",
              "      <th>1</th>\n",
              "      <th>2</th>\n",
              "      <th>3</th>\n",
              "      <th>4</th>\n",
              "      <th>5</th>\n",
              "      <th>6</th>\n",
              "      <th>7</th>\n",
              "      <th>8</th>\n",
              "      <th>9</th>\n",
              "      <th>10</th>\n",
              "      <th>11</th>\n",
              "      <th>12</th>\n",
              "      <th>13</th>\n",
              "      <th>14</th>\n",
              "      <th>15</th>\n",
              "      <th>EMOCIÓN</th>\n",
              "    </tr>\n",
              "  </thead>\n",
              "  <tbody>\n",
              "    <tr>\n",
              "      <th>0</th>\n",
              "      <td>-2.323832</td>\n",
              "      <td>0.042259</td>\n",
              "      <td>-2.074261</td>\n",
              "      <td>0.029075</td>\n",
              "      <td>-0.193686</td>\n",
              "      <td>3.607803</td>\n",
              "      <td>-1.681205</td>\n",
              "      <td>-2.021966</td>\n",
              "      <td>-1.464487</td>\n",
              "      <td>0.110988</td>\n",
              "      <td>-0.830793</td>\n",
              "      <td>1.169527</td>\n",
              "      <td>-0.509235</td>\n",
              "      <td>3.645591</td>\n",
              "      <td>2.665385</td>\n",
              "      <td>0.079923</td>\n",
              "      <td>neutral</td>\n",
              "    </tr>\n",
              "    <tr>\n",
              "      <th>1</th>\n",
              "      <td>-0.892462</td>\n",
              "      <td>-0.607589</td>\n",
              "      <td>-0.471803</td>\n",
              "      <td>-0.607310</td>\n",
              "      <td>-3.051741</td>\n",
              "      <td>3.197655</td>\n",
              "      <td>1.965205</td>\n",
              "      <td>-2.076944</td>\n",
              "      <td>-0.603762</td>\n",
              "      <td>0.796331</td>\n",
              "      <td>0.599001</td>\n",
              "      <td>0.158623</td>\n",
              "      <td>1.184329</td>\n",
              "      <td>-1.911844</td>\n",
              "      <td>-1.033234</td>\n",
              "      <td>-0.206297</td>\n",
              "      <td>positiva</td>\n",
              "    </tr>\n",
              "    <tr>\n",
              "      <th>2</th>\n",
              "      <td>-1.585040</td>\n",
              "      <td>-0.222709</td>\n",
              "      <td>-1.151906</td>\n",
              "      <td>2.894310</td>\n",
              "      <td>-2.298952</td>\n",
              "      <td>1.868188</td>\n",
              "      <td>-0.498739</td>\n",
              "      <td>-1.983366</td>\n",
              "      <td>-0.382251</td>\n",
              "      <td>-1.390174</td>\n",
              "      <td>-1.470202</td>\n",
              "      <td>-0.955853</td>\n",
              "      <td>0.324119</td>\n",
              "      <td>-0.451674</td>\n",
              "      <td>-0.621734</td>\n",
              "      <td>-0.774013</td>\n",
              "      <td>neutral</td>\n",
              "    </tr>\n",
              "    <tr>\n",
              "      <th>3</th>\n",
              "      <td>-2.724015</td>\n",
              "      <td>0.021342</td>\n",
              "      <td>-0.712303</td>\n",
              "      <td>-0.771943</td>\n",
              "      <td>-1.098730</td>\n",
              "      <td>0.272598</td>\n",
              "      <td>0.519219</td>\n",
              "      <td>-1.096608</td>\n",
              "      <td>-0.046069</td>\n",
              "      <td>-0.587158</td>\n",
              "      <td>0.332503</td>\n",
              "      <td>0.031510</td>\n",
              "      <td>-0.936656</td>\n",
              "      <td>0.171955</td>\n",
              "      <td>0.421603</td>\n",
              "      <td>0.010535</td>\n",
              "      <td>neutral</td>\n",
              "    </tr>\n",
              "    <tr>\n",
              "      <th>4</th>\n",
              "      <td>-2.027683</td>\n",
              "      <td>-0.278589</td>\n",
              "      <td>-0.951709</td>\n",
              "      <td>-0.639203</td>\n",
              "      <td>-1.181512</td>\n",
              "      <td>1.443502</td>\n",
              "      <td>-1.399151</td>\n",
              "      <td>-1.475979</td>\n",
              "      <td>-0.231247</td>\n",
              "      <td>-0.033897</td>\n",
              "      <td>-0.445818</td>\n",
              "      <td>-0.480375</td>\n",
              "      <td>-0.381857</td>\n",
              "      <td>0.896343</td>\n",
              "      <td>0.599225</td>\n",
              "      <td>-0.195812</td>\n",
              "      <td>positiva</td>\n",
              "    </tr>\n",
              "    <tr>\n",
              "      <th>...</th>\n",
              "      <td>...</td>\n",
              "      <td>...</td>\n",
              "      <td>...</td>\n",
              "      <td>...</td>\n",
              "      <td>...</td>\n",
              "      <td>...</td>\n",
              "      <td>...</td>\n",
              "      <td>...</td>\n",
              "      <td>...</td>\n",
              "      <td>...</td>\n",
              "      <td>...</td>\n",
              "      <td>...</td>\n",
              "      <td>...</td>\n",
              "      <td>...</td>\n",
              "      <td>...</td>\n",
              "      <td>...</td>\n",
              "      <td>...</td>\n",
              "    </tr>\n",
              "    <tr>\n",
              "      <th>395</th>\n",
              "      <td>-2.734264</td>\n",
              "      <td>0.321575</td>\n",
              "      <td>-0.246636</td>\n",
              "      <td>-0.020197</td>\n",
              "      <td>-0.515100</td>\n",
              "      <td>-2.016076</td>\n",
              "      <td>0.707447</td>\n",
              "      <td>-1.110749</td>\n",
              "      <td>0.148775</td>\n",
              "      <td>-0.995862</td>\n",
              "      <td>-0.026749</td>\n",
              "      <td>-0.656889</td>\n",
              "      <td>0.569178</td>\n",
              "      <td>0.471658</td>\n",
              "      <td>-0.671826</td>\n",
              "      <td>0.003448</td>\n",
              "      <td>neutral</td>\n",
              "    </tr>\n",
              "    <tr>\n",
              "      <th>396</th>\n",
              "      <td>-3.057694</td>\n",
              "      <td>0.305776</td>\n",
              "      <td>-0.654241</td>\n",
              "      <td>-0.093307</td>\n",
              "      <td>-0.133533</td>\n",
              "      <td>-1.241856</td>\n",
              "      <td>-0.421874</td>\n",
              "      <td>-0.077353</td>\n",
              "      <td>-0.524259</td>\n",
              "      <td>0.205801</td>\n",
              "      <td>1.429210</td>\n",
              "      <td>0.422864</td>\n",
              "      <td>-1.283929</td>\n",
              "      <td>-0.053986</td>\n",
              "      <td>0.065733</td>\n",
              "      <td>-0.842709</td>\n",
              "      <td>neutral</td>\n",
              "    </tr>\n",
              "    <tr>\n",
              "      <th>397</th>\n",
              "      <td>-2.480013</td>\n",
              "      <td>0.403156</td>\n",
              "      <td>0.037875</td>\n",
              "      <td>0.295337</td>\n",
              "      <td>-0.639331</td>\n",
              "      <td>-1.771690</td>\n",
              "      <td>0.107300</td>\n",
              "      <td>0.309124</td>\n",
              "      <td>-1.233209</td>\n",
              "      <td>0.475423</td>\n",
              "      <td>1.671518</td>\n",
              "      <td>0.639242</td>\n",
              "      <td>-0.823030</td>\n",
              "      <td>-0.004206</td>\n",
              "      <td>-1.261654</td>\n",
              "      <td>0.347465</td>\n",
              "      <td>neutral</td>\n",
              "    </tr>\n",
              "    <tr>\n",
              "      <th>398</th>\n",
              "      <td>-2.636443</td>\n",
              "      <td>0.415935</td>\n",
              "      <td>-0.022829</td>\n",
              "      <td>0.143714</td>\n",
              "      <td>-0.849503</td>\n",
              "      <td>-2.488619</td>\n",
              "      <td>1.276231</td>\n",
              "      <td>-0.848069</td>\n",
              "      <td>-0.755163</td>\n",
              "      <td>0.098333</td>\n",
              "      <td>1.780566</td>\n",
              "      <td>-0.198017</td>\n",
              "      <td>0.090335</td>\n",
              "      <td>-0.297746</td>\n",
              "      <td>-0.139826</td>\n",
              "      <td>-0.124194</td>\n",
              "      <td>neutral</td>\n",
              "    </tr>\n",
              "    <tr>\n",
              "      <th>399</th>\n",
              "      <td>-2.791542</td>\n",
              "      <td>0.946338</td>\n",
              "      <td>-0.584014</td>\n",
              "      <td>-0.070451</td>\n",
              "      <td>-0.122245</td>\n",
              "      <td>-2.077878</td>\n",
              "      <td>1.519442</td>\n",
              "      <td>-1.455092</td>\n",
              "      <td>-2.086356</td>\n",
              "      <td>-1.070576</td>\n",
              "      <td>-0.438832</td>\n",
              "      <td>-0.753720</td>\n",
              "      <td>3.820995</td>\n",
              "      <td>1.776282</td>\n",
              "      <td>0.006309</td>\n",
              "      <td>0.733889</td>\n",
              "      <td>neutral</td>\n",
              "    </tr>\n",
              "  </tbody>\n",
              "</table>\n",
              "<p>400 rows × 17 columns</p>\n",
              "</div>"
            ],
            "text/plain": [
              "            0         1         2  ...        14        15   EMOCIÓN\n",
              "0   -2.323832  0.042259 -2.074261  ...  2.665385  0.079923   neutral\n",
              "1   -0.892462 -0.607589 -0.471803  ... -1.033234 -0.206297  positiva\n",
              "2   -1.585040 -0.222709 -1.151906  ... -0.621734 -0.774013   neutral\n",
              "3   -2.724015  0.021342 -0.712303  ...  0.421603  0.010535   neutral\n",
              "4   -2.027683 -0.278589 -0.951709  ...  0.599225 -0.195812  positiva\n",
              "..        ...       ...       ...  ...       ...       ...       ...\n",
              "395 -2.734264  0.321575 -0.246636  ... -0.671826  0.003448   neutral\n",
              "396 -3.057694  0.305776 -0.654241  ...  0.065733 -0.842709   neutral\n",
              "397 -2.480013  0.403156  0.037875  ... -1.261654  0.347465   neutral\n",
              "398 -2.636443  0.415935 -0.022829  ... -0.139826 -0.124194   neutral\n",
              "399 -2.791542  0.946338 -0.584014  ...  0.006309  0.733889   neutral\n",
              "\n",
              "[400 rows x 17 columns]"
            ]
          },
          "metadata": {
            "tags": []
          },
          "execution_count": 12
        }
      ]
    },
    {
      "cell_type": "markdown",
      "metadata": {
        "id": "W1342FbP_aD6"
      },
      "source": [
        "## Observacion\n",
        "\n",
        "se oserva que con PCA pasamos de tener una matriz de 400X65 a una de 400X17 conservando el 95% de varianza."
      ]
    },
    {
      "cell_type": "markdown",
      "metadata": {
        "id": "ke43I43azK6e"
      },
      "source": [
        "# **Modelos lineales de clasificacion Bayesiano y Regresion Logıstica**"
      ]
    },
    {
      "cell_type": "markdown",
      "metadata": {
        "id": "1xP9-IBJPwUu"
      },
      "source": [
        "## **Bayesiano**"
      ]
    },
    {
      "cell_type": "code",
      "metadata": {
        "colab": {
          "base_uri": "https://localhost:8080/"
        },
        "id": "yu50vlygzK6e",
        "outputId": "9ec940b5-8d28-4429-e4ad-32017179e4f6"
      },
      "source": [
        "# construimos el clasificador Bayesiano\n",
        "\n",
        "# Se crea el modelo (ej. clasificador)\n",
        "model = GaussianNB() # Verificar cuales son los parametros que tiene este clasificador.\n",
        "\n",
        "# Se entrena el modelo\n",
        "model.fit(XTrain,EtiquetasTrain)\n",
        "\n",
        "# Se realiza una predicción de las etiquetas\n",
        "yEstTrain = model.predict(XTrain)\n",
        "yEstTest = model.predict(XTest)\n",
        "\n",
        "\n",
        "print('Accuracy: ', accuracy_score(EtiquetasTrain,yEstTrain))\n",
        "print('Confunsion Matrix (Train): \\n', confusion_matrix(EtiquetasTrain,yEstTrain))\n",
        "\n",
        "print('Accuracy: ', accuracy_score(EtiquetasTest,yEstTest))\n",
        "print('Confunsion Matrix (Test): \\n', confusion_matrix(EtiquetasTest,yEstTest))\n",
        "\n",
        "accuracy = model.score(XTrain, EtiquetasTrain)\n",
        "print(\"Train accuracy = \", accuracy * 100, \"%\")\n",
        "accuracy = model.score(XTest, EtiquetasTest)\n",
        "print(\"Test accuracy = \", accuracy * 100, \"%\")"
      ],
      "execution_count": 13,
      "outputs": [
        {
          "output_type": "stream",
          "text": [
            "Accuracy:  0.225\n",
            "Confunsion Matrix (Train): \n",
            " [[12  1  0  0  0  0  0  1  1]\n",
            " [ 1  2  0  0  0  0  4  1  2]\n",
            " [ 0  0  8  0  5  1  1  2  0]\n",
            " [10  2  9  8 30  2 38  3  2]\n",
            " [ 4  0  2  0  7  0  1  0  0]\n",
            " [ 6  4  1  2  6  2 24  0  3]\n",
            " [ 3  0  1  0  2  0 12  0  0]\n",
            " [ 5  3  0  0  1  1 13  8  1]\n",
            " [ 2  0  1  0  3  0 11  1  4]]\n",
            "Accuracy:  0.03333333333333333\n",
            "Confunsion Matrix (Test): \n",
            " [[ 0  1  0  0  1  0  1  0  0]\n",
            " [ 0  0  0  0  0  0  1  0  0]\n",
            " [ 0  0  0  0  0  0  1  0  0]\n",
            " [ 5  6 23  1 13  3 17  0  0]\n",
            " [ 0  1  2  0  1  0  1  0  0]\n",
            " [ 0  2  2  0  7  1  5  0  1]\n",
            " [ 0  0  1  1  2  0  1  0  0]\n",
            " [ 0  0  0  0  5  0  3  0  0]\n",
            " [ 0  1  1  0  4  2  3  0  0]]\n",
            "Train accuracy =  22.5 %\n",
            "Test accuracy =  3.3333333333333335 %\n"
          ],
          "name": "stdout"
        }
      ]
    },
    {
      "cell_type": "markdown",
      "metadata": {
        "id": "VdymkybVzK6e"
      },
      "source": [
        "## Observacion\n",
        "* Al entrenar el modelo y aumentar en numero de observaciones con el modelo Bayesiano el accuracy de entrenamiento dacae bruscamente.\n",
        "\n",
        "* El accuracy de entrenamiento es de 22.5%, mientras que el de validacion es del 3.33%, lo cual es muy bajo.\n",
        "\n",
        "* En la matriz de confunsion podemos observar que la emocion 4 es donde se esta presentando una mayor cantidad de falsos negativos y/o falsos positivos."
      ]
    },
    {
      "cell_type": "markdown",
      "metadata": {
        "id": "U6sXTPdmP3xa"
      },
      "source": [
        "## **Regresion logistica**"
      ]
    },
    {
      "cell_type": "code",
      "metadata": {
        "colab": {
          "base_uri": "https://localhost:8080/"
        },
        "id": "IKxre5RVzK6e",
        "outputId": "4d5bfad5-d79b-4905-d6d0-1d215e9ab36d"
      },
      "source": [
        "# construimos el clasificador de regresion logistica\n",
        "\n",
        "# Se crea el modelo \n",
        "modelRL = LogisticRegression()\n",
        "\n",
        "# Se entrena el modelo\n",
        "modelRL.fit(XTrain,EtiquetasTrain)\n",
        "\n",
        "# Se realiza una predicción\n",
        "yEstTrain = modelRL.predict(XTrain)\n",
        "yEstTest = modelRL.predict(XTest)\n",
        "\n",
        "print('Accuracy: ', accuracy_score(EtiquetasTrain,yEstTrain))\n",
        "print('Confunsion Matrix (Train): \\n', confusion_matrix(EtiquetasTrain,yEstTrain))\n",
        "\n",
        "print('Accuracy: ', accuracy_score(EtiquetasTest,yEstTest))\n",
        "print('Confunsion Matrix (Test): \\n', confusion_matrix(EtiquetasTest,yEstTest))\n",
        "\n",
        "\n",
        "accuracy = modelRL.score(XTrain, EtiquetasTrain)\n",
        "print(\"Train accuracy = \", accuracy * 100, \"%\")\n",
        "accuracy = modelRL.score(XTest, EtiquetasTest)\n",
        "print(\"Test accuracy = \", accuracy * 100, \"%\")\n",
        "\n",
        "EtqTest = modelRL.predict(XTest)\n",
        "cMAT = confusion_matrix(EtiquetasTest,EtqTest)"
      ],
      "execution_count": 14,
      "outputs": [
        {
          "output_type": "stream",
          "text": [
            "Accuracy:  0.5107142857142857\n",
            "Confunsion Matrix (Train): \n",
            " [[ 7  0  0  3  0  1  2  1  1]\n",
            " [ 0  2  0  2  0  3  0  2  1]\n",
            " [ 0  0  8  6  0  0  0  2  1]\n",
            " [ 4  1  3 83  0 10  0  3  0]\n",
            " [ 2  0  0  6  6  0  0  0  0]\n",
            " [ 3  0  0 23  1 15  1  2  3]\n",
            " [ 2  0  1  4  0  1  9  0  1]\n",
            " [ 0  1  0 18  0  3  0 10  0]\n",
            " [ 0  0  2 12  0  3  1  1  3]]\n",
            "Accuracy:  0.2916666666666667\n",
            "Confunsion Matrix (Test): \n",
            " [[ 0  0  0  1  1  1  0  0  0]\n",
            " [ 1  0  0  0  0  0  0  0  0]\n",
            " [ 0  0  0  1  0  0  0  0  0]\n",
            " [ 0  0  3 25  2 36  0  2  0]\n",
            " [ 0  0  0  0  1  4  0  0  0]\n",
            " [ 1  0  0  7  0  9  0  0  1]\n",
            " [ 0  0  1  0  1  3  0  0  0]\n",
            " [ 0  0  0  6  0  1  0  0  1]\n",
            " [ 0  0  0  4  0  4  0  3  0]]\n",
            "Train accuracy =  51.07142857142857 %\n",
            "Test accuracy =  29.166666666666668 %\n"
          ],
          "name": "stdout"
        },
        {
          "output_type": "stream",
          "text": [
            "/usr/local/lib/python3.6/dist-packages/sklearn/linear_model/_logistic.py:940: ConvergenceWarning: lbfgs failed to converge (status=1):\n",
            "STOP: TOTAL NO. of ITERATIONS REACHED LIMIT.\n",
            "\n",
            "Increase the number of iterations (max_iter) or scale the data as shown in:\n",
            "    https://scikit-learn.org/stable/modules/preprocessing.html\n",
            "Please also refer to the documentation for alternative solver options:\n",
            "    https://scikit-learn.org/stable/modules/linear_model.html#logistic-regression\n",
            "  extra_warning_msg=_LOGISTIC_SOLVER_CONVERGENCE_MSG)\n"
          ],
          "name": "stderr"
        }
      ]
    },
    {
      "cell_type": "markdown",
      "metadata": {
        "id": "kNxcK2g4Ddkq"
      },
      "source": [
        "## Observacion\n",
        "* Al entrenar el modelo y aumentar en numero de observaciones con el modelo de regresion logistica el accuracy de entrenamiento dacae bruscamente sin embargo no es tan brusco como el bayesiano.\n",
        "\n",
        "* El accuracy de entrenamiento es de 51.07%, mientras que el de validacion es del 29.16%, lo cual es un mejora enorme frente al modelo bayesiado ya que aumento el acuraccy al doble en el entrenamiento y aumento en un  factor de 9 aproximadamente el de entrenamiento.\n",
        "\n",
        "* Podemos decir que el modelo de regresion logistica para nuestro caso es mejor debido a los valores del accuracy\n",
        "\n",
        "* En la matriz de confunsion podemos observar que la emocion 4 sigue siendo la que presenta una mayor cantidad de falsos negativos y/o falsos positivos."
      ]
    },
    {
      "cell_type": "markdown",
      "metadata": {
        "id": "9GuWiYJgzK6f"
      },
      "source": [
        "### **Utilizando la forma de particion de conjunto de entrenamiento y test aleatorio.**\n",
        "\n",
        "Ahora vamos a separar los datos de entrenamiento y de validación de manera aleatoria y realizamos el mismo procedimiento."
      ]
    },
    {
      "cell_type": "markdown",
      "metadata": {
        "id": "eEeMgz36QFKa"
      },
      "source": [
        "## **Bayesiano**"
      ]
    },
    {
      "cell_type": "code",
      "metadata": {
        "colab": {
          "base_uri": "https://localhost:8080/"
        },
        "id": "YbFWIb4zNm2i",
        "outputId": "4f6fb27a-6c5b-4cd2-f3b1-698942f9f973"
      },
      "source": [
        "X_Train, X_Test, Etiquetas_Train, Etiquetas_Test = train_test_split(X,Etiquetas,test_size = 0.2) \n",
        "\n",
        "# Se crea el modelo \n",
        "modelRL = GaussianNB()\n",
        "# Se entrena el modelo\n",
        "modelRL.fit(X_Train,Etiquetas_Train)\n",
        "# Se realiza una predicción\n",
        "yEstTrain=[]\n",
        "yEstTest=[]\n",
        "yEstTrain = modelRL.predict(X_Train)\n",
        "yEstTest = modelRL.predict(X_Test)\n",
        "\n",
        "print('Accuracy: ', accuracy_score(Etiquetas_Train,yEstTrain))\n",
        "print('Confunsion Matrix (Train): \\n', confusion_matrix(Etiquetas_Train,yEstTrain))\n",
        "\n",
        "print('Accuracy: ', accuracy_score(Etiquetas_Test,yEstTest))\n",
        "print('Confunsion Matrix (Test): \\n', confusion_matrix(Etiquetas_Test,yEstTest))\n",
        "\n",
        "\n",
        "accuracy = modelRL.score(X_Train, Etiquetas_Train)\n",
        "print(\"Train accuracy = \", accuracy * 100, \"%\")\n",
        "accuracy = modelRL.score(X_Test, Etiquetas_Test)\n",
        "print(\"Test accuracy = \", accuracy * 100, \"%\")\n",
        "\n",
        "EtqTest = modelRL.predict(X_Test)\n",
        "cMAT = confusion_matrix(Etiquetas_Test,EtqTest)"
      ],
      "execution_count": 15,
      "outputs": [
        {
          "output_type": "stream",
          "text": [
            "Accuracy:  0.165625\n",
            "Confunsion Matrix (Train): \n",
            " [[ 1  0  0  0  1  0 10  2  0]\n",
            " [ 0  2  0  0  0  2  4  1  0]\n",
            " [ 0  0  8  0  2  0  2  2  0]\n",
            " [ 2  2  8  6 27  0 85  9  0]\n",
            " [ 0  0  2  0  4  0  8  0  0]\n",
            " [ 1  1  1  1  4  2 36  2  0]\n",
            " [ 0  0  0  0  1  0 18  0  0]\n",
            " [ 1  5  0  0  1  4 15 10  0]\n",
            " [ 2  1  1  1  2  0 18  0  2]]\n",
            "Accuracy:  0.075\n",
            "Confunsion Matrix (Test): \n",
            " [[ 0  1  0  0  0  0  1  2  0]\n",
            " [ 0  0  0  0  0  0  2  0  0]\n",
            " [ 0  0  1  0  3  0  0  0  0]\n",
            " [ 0  1  2  0  8  1 19  2  0]\n",
            " [ 0  0  1  0  1  0  3  0  0]\n",
            " [ 0  2  1  0  1  1 12  1  0]\n",
            " [ 0  0  1  0  1  0  2  0  0]\n",
            " [ 0  0  0  0  1  0  2  1  0]\n",
            " [ 0  0  0  1  1  2  2  0  0]]\n",
            "Train accuracy =  16.5625 %\n",
            "Test accuracy =  7.5 %\n"
          ],
          "name": "stdout"
        }
      ]
    },
    {
      "cell_type": "markdown",
      "metadata": {
        "id": "HcyLb_MBN-4y"
      },
      "source": [
        "## Observacion\n",
        "* podemos oservar que con una separacion de datos de entrenamiento y de validacion aleatoria del 20% obtenemos un accuracy que varia entre 50% y 59% de entrenamiento y un acurracy que varia entre un 35% y 48%"
      ]
    },
    {
      "cell_type": "markdown",
      "metadata": {
        "id": "kg5LwPCZQGpr"
      },
      "source": [
        "## **Regresion logistica**"
      ]
    },
    {
      "cell_type": "code",
      "metadata": {
        "colab": {
          "base_uri": "https://localhost:8080/"
        },
        "id": "cnztm9aUzK6f",
        "outputId": "0d6d159e-96b4-4166-ecbb-d09c304a7fcd"
      },
      "source": [
        "X_Train, X_Test, Etiquetas_Train, Etiquetas_Test = train_test_split(X,Etiquetas,test_size = 0.2) \n",
        "\n",
        "# Se crea el modelo \n",
        "modelRL = LogisticRegression()\n",
        "# Se entrena el modelo\n",
        "modelRL.fit(X_Train,Etiquetas_Train)\n",
        "# Se realiza una predicción\n",
        "\n",
        "yEstTrain = modelRL.predict(X_Train)\n",
        "yEstTest = modelRL.predict(X_Test)\n",
        "\n",
        "print('Accuracy: ', accuracy_score(Etiquetas_Train,yEstTrain))\n",
        "print('Confunsion Matrix (Train): \\n', confusion_matrix(Etiquetas_Train,yEstTrain))\n",
        "\n",
        "print('Accuracy: ', accuracy_score(Etiquetas_Test,yEstTest))\n",
        "print('Confunsion Matrix (Test): \\n', confusion_matrix(Etiquetas_Test,yEstTest))\n",
        "\n",
        "\n",
        "accuracy = modelRL.score(X_Train, Etiquetas_Train)\n",
        "print(\"Train accuracy = \", accuracy * 100, \"%\")\n",
        "accuracy = modelRL.score(X_Test, Etiquetas_Test)\n",
        "print(\"Test accuracy = \", accuracy * 100, \"%\")\n",
        "\n",
        "EtqTest = modelRL.predict(X_Test)\n",
        "cMAT = confusion_matrix(Etiquetas_Test,EtqTest)"
      ],
      "execution_count": 16,
      "outputs": [
        {
          "output_type": "stream",
          "text": [
            "Accuracy:  0.565625\n",
            "Confunsion Matrix (Train): \n",
            " [[  7   0   0   1   0   2   0   0   0]\n",
            " [  0   3   0   4   0   1   0   0   0]\n",
            " [  0   0   5   7   0   0   0   1   1]\n",
            " [  1   0   3 118   0   9   2   2   4]\n",
            " [  0   0   1   9   5   0   1   0   0]\n",
            " [  1   0   0  32   1  16   2   0   1]\n",
            " [  1   0   1   7   1   0   9   0   1]\n",
            " [  0   0   0  16   0   0   0  11   3]\n",
            " [  0   0   1  13   0   5   1   3   7]]\n",
            "Accuracy:  0.375\n",
            "Confunsion Matrix (Test): \n",
            " [[ 0  0  0  4  0  3  1  0  0]\n",
            " [ 0  0  0  1  0  0  0  1  1]\n",
            " [ 0  0  0  2  0  1  1  0  0]\n",
            " [ 0  1  0 29  0  1  0  2  0]\n",
            " [ 0  0  0  3  0  0  0  0  0]\n",
            " [ 0  3  0 10  0  0  0  0  0]\n",
            " [ 0  0  0  2  0  0  0  0  1]\n",
            " [ 0  1  0  7  0  1  0  1  0]\n",
            " [ 0  0  0  3  0  0  0  0  0]]\n",
            "Train accuracy =  56.56250000000001 %\n",
            "Test accuracy =  37.5 %\n"
          ],
          "name": "stdout"
        },
        {
          "output_type": "stream",
          "text": [
            "/usr/local/lib/python3.6/dist-packages/sklearn/linear_model/_logistic.py:940: ConvergenceWarning: lbfgs failed to converge (status=1):\n",
            "STOP: TOTAL NO. of ITERATIONS REACHED LIMIT.\n",
            "\n",
            "Increase the number of iterations (max_iter) or scale the data as shown in:\n",
            "    https://scikit-learn.org/stable/modules/preprocessing.html\n",
            "Please also refer to the documentation for alternative solver options:\n",
            "    https://scikit-learn.org/stable/modules/linear_model.html#logistic-regression\n",
            "  extra_warning_msg=_LOGISTIC_SOLVER_CONVERGENCE_MSG)\n"
          ],
          "name": "stderr"
        }
      ]
    },
    {
      "cell_type": "markdown",
      "metadata": {
        "id": "VtjthB24OWlp"
      },
      "source": [
        "## Observacion\n",
        "\n",
        "* Aquí se presenta un fenomeno curioso y es que al ejecutalo la primera vez obtenemos un accuracy de entrenamiento del 50% sin embargo al ejecutarlo una segunda vez pasa a ser un 98% y si se ejecuta varias veces mantiene en promedio ese 98%"
      ]
    },
    {
      "cell_type": "markdown",
      "metadata": {
        "id": "5EDwiaNIVJ-u"
      },
      "source": [
        "### **Utilizando la forma de particion de conjunto de entrenamiento y test aleatorio y PCA.**"
      ]
    },
    {
      "cell_type": "markdown",
      "metadata": {
        "id": "gwkh_DkRzK6f"
      },
      "source": [
        "Ahora se procede a realizar el entrenamiento con los datos generados al usar el modelo PCA para comparar si al pasar a un espacio latente de menor dimensionalidad que el problema original se pierde o se disminuye la certeza en los modelos de clasificación probabilísticos."
      ]
    },
    {
      "cell_type": "markdown",
      "metadata": {
        "id": "7SQyGomFQmkT"
      },
      "source": [
        "Volvemos a separar los sujetos pero ahora en el espacio latente."
      ]
    },
    {
      "cell_type": "code",
      "metadata": {
        "id": "K5Bn1cxszK6f"
      },
      "source": [
        "XPCA0 = projected[:40]\n",
        "XPCA1 = projected[40:80]\n",
        "XPCA2 = projected[80:120]\n",
        "XPCA3 = projected[120:160]\n",
        "XPCA4 = projected[160:200]\n",
        "XPCA5 = projected[200:240]\n",
        "XPCA6 = projected[240:280]\n",
        "XPCA7 = projected[280:320]\n",
        "XPCA8 = projected[320:360]\n",
        "XPCA9 = projected[360:400]\n",
        "\n",
        "w = np.concatenate((XPCA0,XPCA2,XPCA3,XPCA4,XPCA5,XPCA8,XPCA9), axis = 0)  \n",
        "x = np.concatenate((XPCA1,XPCA6,XPCA7), axis = 0)  \n",
        "\n",
        "XTrainPCA = w\n",
        "XTestPCA = x"
      ],
      "execution_count": 17,
      "outputs": []
    },
    {
      "cell_type": "markdown",
      "metadata": {
        "id": "H9h3_PFDQt80"
      },
      "source": [
        "## **Bayesiano**"
      ]
    },
    {
      "cell_type": "code",
      "metadata": {
        "colab": {
          "base_uri": "https://localhost:8080/"
        },
        "id": "ftCDmXtZzK6f",
        "outputId": "b9ceedf1-8a3a-4d60-ea73-658f0f7a4011"
      },
      "source": [
        "# construimos el clasificador Bayesiano\n",
        "\n",
        "# Se crea el modelo\n",
        "model = GaussianNB() # Verificar cuales son los parametros que tiene este clasificador.\n",
        "\n",
        "# Se entrena el modelo\n",
        "model.fit(XTrainPCA,EtiquetasTrain)\n",
        "\n",
        "# Se realiza una predicción de las etiquetas\n",
        "yEstTrain = model.predict(XTrainPCA)\n",
        "yEstTest = model.predict(XTestPCA)\n",
        "\n",
        "print('Accuracy: ', accuracy_score(EtiquetasTrain,yEstTrain))\n",
        "print('Confunsion Matrix (Train): \\n', confusion_matrix(EtiquetasTrain,yEstTrain))\n",
        "\n",
        "print('Accuracy: ', accuracy_score(EtiquetasTest,yEstTest))\n",
        "print('Confunsion Matrix (Test): \\n', confusion_matrix(EtiquetasTest,yEstTest))\n",
        "\n",
        "accuracy = model.score(XTrainPCA, EtiquetasTrain)\n",
        "print(\"Train accuracy = \", accuracy * 100, \"%\")\n",
        "accuracy = model.score(XTestPCA, EtiquetasTest)\n",
        "print(\"Test accuracy = \", accuracy * 100, \"%\")"
      ],
      "execution_count": 18,
      "outputs": [
        {
          "output_type": "stream",
          "text": [
            "Accuracy:  0.35714285714285715\n",
            "Confunsion Matrix (Train): \n",
            " [[ 8  0  1  1  0  0  0  4  1]\n",
            " [ 0  3  0  1  0  3  0  2  1]\n",
            " [ 0  0 14  0  0  2  0  1  0]\n",
            " [10  1 14 37  5  5  5 15 12]\n",
            " [ 3  0  3  4  4  0  0  0  0]\n",
            " [ 6  3  3  6  4  9  2  4 11]\n",
            " [ 4  0  1  4  0  0  7  1  1]\n",
            " [ 3  2  6  9  0  0  1  8  3]\n",
            " [ 2  0  5  0  1  2  1  1 10]]\n",
            "Accuracy:  0.075\n",
            "Confunsion Matrix (Test): \n",
            " [[ 0  1  0  2  0  0  0  0  0]\n",
            " [ 0  0  0  1  0  0  0  0  0]\n",
            " [ 0  0  0  1  0  0  0  0  0]\n",
            " [ 0 28 10  8  1  9  0  2 10]\n",
            " [ 0  3  1  1  0  0  0  0  0]\n",
            " [ 0  4  1  1  1  1  0  2  8]\n",
            " [ 0  1  1  2  0  1  0  0  0]\n",
            " [ 0  0  2  1  1  1  1  0  2]\n",
            " [ 0  2  3  2  0  4  0  0  0]]\n",
            "Train accuracy =  35.714285714285715 %\n",
            "Test accuracy =  7.5 %\n"
          ],
          "name": "stdout"
        }
      ]
    },
    {
      "cell_type": "markdown",
      "metadata": {
        "id": "EV4706JfQzmr"
      },
      "source": [
        "## Observacion\n",
        "\n",
        "* con el modelo bayesiano obtenemos un accuracy de entrenamiento del 35.7% y 7.5% de validación.\n",
        "\n",
        "* Comparando los valores del accuracy para el problema origianl y el problema en PCA, se observa una mejora, ya que pasamos de 22.5% a 35.7% en entrenamiento y de 3.33% a un 7.5% de validación. \n",
        "\n",
        "*  Tanto en PCA como en el original vemos que la emocion 4 en la matriz de confunsion es la que más falsos negativos y/o falsos positivos arroja."
      ]
    },
    {
      "cell_type": "markdown",
      "metadata": {
        "id": "FSf0ykxKR7_H"
      },
      "source": [
        "## **Regresion Logistica**"
      ]
    },
    {
      "cell_type": "code",
      "metadata": {
        "colab": {
          "base_uri": "https://localhost:8080/"
        },
        "id": "zjZt-JrtzK6f",
        "outputId": "a810fd1e-feca-4e6f-e467-7aa466d5cfa5"
      },
      "source": [
        "# construimos el clasificador de regresion logistica\n",
        "\n",
        "# Se crea el modelo \n",
        "modelRL = LogisticRegression()\n",
        "\n",
        "# Se entrena el modelo\n",
        "modelRL.fit(XTrainPCA,EtiquetasTrain)\n",
        "\n",
        "# Se realiza una predicción de las etiquetas\n",
        "yEstTrain = modelRL.predict(XTrainPCA)\n",
        "yEstTest = modelRL.predict(XTestPCA)\n",
        "\n",
        "print('Accuracy: ', accuracy_score(EtiquetasTrain,yEstTrain))\n",
        "print('Confunsion Matrix (Train): \\n', confusion_matrix(EtiquetasTrain,yEstTrain))\n",
        "\n",
        "print('Accuracy: ', accuracy_score(EtiquetasTest,yEstTest))\n",
        "print('Confunsion Matrix (Test): \\n', confusion_matrix(EtiquetasTest,yEstTest))\n",
        "\n",
        "accuracy = modelRL.score(XTrainPCA, EtiquetasTrain)\n",
        "print(\"Train accuracy = \", accuracy * 100, \"%\")\n",
        "accuracy = modelRL.score(XTestPCA, EtiquetasTest)\n",
        "print(\"Test accuracy = \", accuracy * 100, \"%\")\n",
        "\n"
      ],
      "execution_count": 19,
      "outputs": [
        {
          "output_type": "stream",
          "text": [
            "Accuracy:  0.45357142857142857\n",
            "Confunsion Matrix (Train): \n",
            " [[ 3  0  0  4  1  3  2  2  0]\n",
            " [ 0  1  0  4  0  3  0  1  1]\n",
            " [ 0  0  9  7  0  0  0  1  0]\n",
            " [ 2  1  2 81  0 12  2  3  1]\n",
            " [ 2  0  1  8  2  1  0  0  0]\n",
            " [ 1  0  0 22  2 15  2  3  3]\n",
            " [ 2  0  1  7  0  1  6  0  1]\n",
            " [ 0  0  0 20  0  2  0  9  1]\n",
            " [ 1  0  2 13  0  4  0  1  1]]\n",
            "Accuracy:  0.2916666666666667\n",
            "Confunsion Matrix (Test): \n",
            " [[ 0  0  0  0  1  1  0  1  0]\n",
            " [ 0  0  0  1  0  0  0  0  0]\n",
            " [ 0  0  0  1  0  0  0  0  0]\n",
            " [ 0  1  3 28  2  7  0 26  1]\n",
            " [ 0  0  0  1  1  0  0  3  0]\n",
            " [ 0  1  0  8  0  6  0  1  2]\n",
            " [ 0  0  2  1  1  0  0  1  0]\n",
            " [ 0  0  2  5  0  0  0  0  1]\n",
            " [ 0  0  0  7  0  2  0  2  0]]\n",
            "Train accuracy =  45.357142857142854 %\n",
            "Test accuracy =  29.166666666666668 %\n"
          ],
          "name": "stdout"
        },
        {
          "output_type": "stream",
          "text": [
            "/usr/local/lib/python3.6/dist-packages/sklearn/linear_model/_logistic.py:940: ConvergenceWarning: lbfgs failed to converge (status=1):\n",
            "STOP: TOTAL NO. of ITERATIONS REACHED LIMIT.\n",
            "\n",
            "Increase the number of iterations (max_iter) or scale the data as shown in:\n",
            "    https://scikit-learn.org/stable/modules/preprocessing.html\n",
            "Please also refer to the documentation for alternative solver options:\n",
            "    https://scikit-learn.org/stable/modules/linear_model.html#logistic-regression\n",
            "  extra_warning_msg=_LOGISTIC_SOLVER_CONVERGENCE_MSG)\n"
          ],
          "name": "stderr"
        }
      ]
    },
    {
      "cell_type": "markdown",
      "metadata": {
        "id": "AtshOhCVYcq2"
      },
      "source": [
        "## Observacion\n",
        "\n",
        "* con el modelo de regresion logistico obtenemos un accuracy de entrenamiento del 45.0% y 29.16% de validación.\n",
        "\n",
        "* Comparando los valores del accuracy para el problema origianl y el problema en PCA, se observa que en PCA tenemos una reduccion en el accuracy de entrenamiento pero se mantiene en el de validación.\n",
        "\n",
        "*  Tanto en PCA como en el original vemos que la emocion 4 en la matriz de confunsion es la que más falsos negativos y/o falsos positivos arroja."
      ]
    },
    {
      "cell_type": "markdown",
      "metadata": {
        "id": "M79KPic2zK6f"
      },
      "source": [
        "### **Ahora con el SPLIT aleatorio y PCA**"
      ]
    },
    {
      "cell_type": "markdown",
      "metadata": {
        "id": "ve10o0yVbGKY"
      },
      "source": [
        "## **Bayesiano con PCA**"
      ]
    },
    {
      "cell_type": "code",
      "metadata": {
        "colab": {
          "base_uri": "https://localhost:8080/"
        },
        "id": "dVHwTZ0UW7sV",
        "outputId": "8e26538c-ce08-4a7b-f066-615d8a07496d"
      },
      "source": [
        "X_TrainPCA, X_TestPCA, Etiquetas_TrainPCA, Etiquetas_TestPCA = train_test_split(projected,Etiquetas,test_size = 0.2) \n",
        "\n",
        "# Se crea el modelo\n",
        "model = GaussianNB() # Verificar cuales son los parametros que tiene este clasificador.\n",
        "\n",
        "# Se entrena el modelo\n",
        "model.fit(X_TrainPCA,Etiquetas_TrainPCA)\n",
        "\n",
        "# Se realiza una predicción de las etiquetas\n",
        "yEstTrain = model.predict(X_TrainPCA)\n",
        "yEstTest = model.predict(X_TestPCA)\n",
        "\n",
        "print('Accuracy: ', accuracy_score(Etiquetas_TrainPCA,yEstTrain))\n",
        "print('Confunsion Matrix (Train): \\n', confusion_matrix(Etiquetas_TrainPCA,yEstTrain))\n",
        "\n",
        "print('Accuracy: ', accuracy_score(Etiquetas_TestPCA,yEstTest))\n",
        "print('Confunsion Matrix (Test): \\n', confusion_matrix(Etiquetas_TestPCA,yEstTest))\n",
        "\n",
        "accuracy = model.score(X_TrainPCA, Etiquetas_TrainPCA)\n",
        "print(\"Train accuracy = \", accuracy * 100, \"%\")\n",
        "accuracy = model.score(X_TestPCA, Etiquetas_TestPCA)\n",
        "print(\"Test accuracy = \", accuracy * 100, \"%\")"
      ],
      "execution_count": 20,
      "outputs": [
        {
          "output_type": "stream",
          "text": [
            "Accuracy:  0.325\n",
            "Confunsion Matrix (Train): \n",
            " [[ 2  2  1  0  1  1  2  3  2]\n",
            " [ 0  5  0  2  0  2  0  1  0]\n",
            " [ 0  0 11  0  0  1  0  1  0]\n",
            " [ 3  7 12 39  6  8 10 37 13]\n",
            " [ 2  0  3  3  5  0  4  1  0]\n",
            " [ 4  3  4  5  2 12  4  9 10]\n",
            " [ 0  0  2  1  2  2 12  0  0]\n",
            " [ 1  3  7  4  1  0  2 11  4]\n",
            " [ 2  0  4  3  0  4  0  5  7]]\n",
            "Accuracy:  0.1875\n",
            "Confunsion Matrix (Test): \n",
            " [[ 1  0  0  0  0  0  2  1  0]\n",
            " [ 0  0  0  0  0  0  1  0  0]\n",
            " [ 0  1  2  0  0  1  0  1  0]\n",
            " [ 1  3  5  9  1  0  3 13  2]\n",
            " [ 0  0  1  0  0  0  0  0  0]\n",
            " [ 1  4  0  1  0  2  0  2  3]\n",
            " [ 1  1  0  1  1  0  0  0  0]\n",
            " [ 0  2  2  0  0  0  1  1  1]\n",
            " [ 2  0  2  1  0  1  1  1  0]]\n",
            "Train accuracy =  32.5 %\n",
            "Test accuracy =  18.75 %\n"
          ],
          "name": "stdout"
        }
      ]
    },
    {
      "cell_type": "markdown",
      "metadata": {
        "id": "mMr2Q8Ghb0-j"
      },
      "source": [
        "## Observacion\n",
        "\n",
        "* Podemos oservar que con una separacion de datos de entrenamiento y de validacion aleatoria del 20% obtenemos un accuracy que varia entre 50% y 59% de entrenamiento y un acurracy que varia entre un 35% y 48%, por lo tanto no hay una mejora significatva entre el modelo de clasificacion bayesiano sin PCA y con PCA.\n",
        "\n"
      ]
    },
    {
      "cell_type": "markdown",
      "metadata": {
        "id": "T42MdbARbScp"
      },
      "source": [
        "## **Regresion logistica con PCA**"
      ]
    },
    {
      "cell_type": "code",
      "metadata": {
        "colab": {
          "base_uri": "https://localhost:8080/"
        },
        "id": "ERxKnlDVzK6f",
        "outputId": "35e5788b-3843-40a2-f28d-b17d0c0c9028"
      },
      "source": [
        "X_TrainPCA, X_TestPCA, Etiquetas_TrainPCA, Etiquetas_TestPCA = train_test_split(projected,Etiquetas,test_size = 0.2) \n",
        "\n",
        "# Se crea el modelo\n",
        "model = LogisticRegression() # Verificar cuales son los parametros que tiene este clasificador.\n",
        "\n",
        "# Se entrena el modelo\n",
        "model.fit(X_TrainPCA,Etiquetas_TrainPCA)\n",
        "\n",
        "# Se realiza una predicción de las etiquetas\n",
        "yEstTrain = model.predict(X_TrainPCA)\n",
        "yEstTest = model.predict(X_TestPCA)\n",
        "\n",
        "print('Accuracy: ', accuracy_score(Etiquetas_TrainPCA,yEstTrain))\n",
        "print('Confunsion Matrix (Train): \\n', confusion_matrix(Etiquetas_TrainPCA,yEstTrain))\n",
        "\n",
        "print('Accuracy: ', accuracy_score(Etiquetas_TestPCA,yEstTest))\n",
        "print('Confunsion Matrix (Test): \\n', confusion_matrix(Etiquetas_TestPCA,yEstTest))\n",
        "\n",
        "accuracy = model.score(X_TrainPCA, Etiquetas_TrainPCA)\n",
        "print(\"Train accuracy = \", accuracy * 100, \"%\")\n",
        "accuracy = model.score(X_TestPCA, Etiquetas_TestPCA)\n",
        "print(\"Test accuracy = \", accuracy * 100, \"%\")"
      ],
      "execution_count": 21,
      "outputs": [
        {
          "output_type": "stream",
          "text": [
            "Accuracy:  0.475\n",
            "Confunsion Matrix (Train): \n",
            " [[  2   0   0   4   0   4   3   1   0]\n",
            " [  0   0   0   5   0   3   0   1   1]\n",
            " [  0   0   6   7   0   0   0   1   0]\n",
            " [  2   1   2 120   1   9   2   4   1]\n",
            " [  0   0   1  12   0   0   2   0   0]\n",
            " [  2   0   1  30   0   6   2   5   1]\n",
            " [  1   0   1  10   0   0   7   0   0]\n",
            " [  1   0   0  20   0   0   0   9   1]\n",
            " [  0   0   1  20   0   3   0   2   2]]\n",
            "Accuracy:  0.3875\n",
            "Confunsion Matrix (Test): \n",
            " [[ 0  0  0  1  1  0  1  1  0]\n",
            " [ 0  0  0  0  0  0  0  1  0]\n",
            " [ 0  0  1  2  0  0  0  1  0]\n",
            " [ 0  1  0 26  0  0  1  2  0]\n",
            " [ 0  0  0  2  1  0  1  0  0]\n",
            " [ 0  1  0 14  0  2  1  0  1]\n",
            " [ 0  0  0  4  0  0  0  0  0]\n",
            " [ 0  0  0  8  0  0  0  1  0]\n",
            " [ 0  0  0  3  0  1  1  0  0]]\n",
            "Train accuracy =  47.5 %\n",
            "Test accuracy =  38.75 %\n"
          ],
          "name": "stdout"
        },
        {
          "output_type": "stream",
          "text": [
            "/usr/local/lib/python3.6/dist-packages/sklearn/linear_model/_logistic.py:940: ConvergenceWarning: lbfgs failed to converge (status=1):\n",
            "STOP: TOTAL NO. of ITERATIONS REACHED LIMIT.\n",
            "\n",
            "Increase the number of iterations (max_iter) or scale the data as shown in:\n",
            "    https://scikit-learn.org/stable/modules/preprocessing.html\n",
            "Please also refer to the documentation for alternative solver options:\n",
            "    https://scikit-learn.org/stable/modules/linear_model.html#logistic-regression\n",
            "  extra_warning_msg=_LOGISTIC_SOLVER_CONVERGENCE_MSG)\n"
          ],
          "name": "stderr"
        }
      ]
    },
    {
      "cell_type": "markdown",
      "metadata": {
        "id": "JN6wRTEvciEi"
      },
      "source": [
        "## Observacion\n",
        "\n",
        "* nuevamente se evidencia el mismo fenomeno, donde al ejecutar la primera vez obetenemos un accuracy del 50% y luego obtenemos valores de mas de 97%."
      ]
    },
    {
      "cell_type": "markdown",
      "metadata": {
        "id": "z3yZt97YzK6f"
      },
      "source": [
        "## 2. **Base de datos de rostros**"
      ]
    },
    {
      "cell_type": "code",
      "metadata": {
        "colab": {
          "base_uri": "https://localhost:8080/"
        },
        "id": "gMNevLb9zK6f",
        "outputId": "e808c877-f8c2-44b8-f6dd-193d212ff863"
      },
      "source": [
        "faces = fetch_lfw_people(min_faces_per_person=60)\n",
        "X = faces.data\n",
        "Etiquetas = faces.target\n",
        "print(faces.target_names)\n",
        "print(faces.images.shape)\n"
      ],
      "execution_count": 22,
      "outputs": [
        {
          "output_type": "stream",
          "text": [
            "['Ariel Sharon' 'Colin Powell' 'Donald Rumsfeld' 'George W Bush'\n",
            " 'Gerhard Schroeder' 'Hugo Chavez' 'Junichiro Koizumi' 'Tony Blair']\n",
            "(1348, 62, 47)\n"
          ],
          "name": "stdout"
        }
      ]
    },
    {
      "cell_type": "code",
      "metadata": {
        "colab": {
          "base_uri": "https://localhost:8080/",
          "height": 313
        },
        "id": "Z2LJlewrzK6f",
        "outputId": "d8397af2-5725-4909-95cd-a23bc43b2020"
      },
      "source": [
        "pca = PCA().fit(X) \n",
        "varExp = pca.explained_variance_ratio_\n",
        "print(varExp.shape,'\\n Explained variance',np.sum(varExp[:160]))\n",
        "plt.plot(np.cumsum(pca.explained_variance_ratio_))\n",
        "plt.xlabel('number of components')\n",
        "plt.ylabel('cumulative explained variance');"
      ],
      "execution_count": 23,
      "outputs": [
        {
          "output_type": "stream",
          "text": [
            "(1348,) \n",
            " Explained variance 0.950246\n"
          ],
          "name": "stdout"
        },
        {
          "output_type": "display_data",
          "data": {
            "image/png": "[encoded data removed]",
            "text/plain": [
              "<Figure size 432x288 with 1 Axes>"
            ]
          },
          "metadata": {
            "tags": [],
            "needs_background": "light"
          }
        }
      ]
    },
    {
      "cell_type": "markdown",
      "metadata": {
        "id": "b8-f9oBWUN1W"
      },
      "source": [
        "## Observacion\n",
        "* El numero de dimensiones neserarias para lograr una varianza acumulada de los datos de aprox 95% es de 160. "
      ]
    },
    {
      "cell_type": "code",
      "metadata": {
        "colab": {
          "base_uri": "https://localhost:8080/"
        },
        "id": "qN-8zcnMzK6f",
        "outputId": "7c29ba37-82bc-47e1-c459-b0d14fe3ea2d"
      },
      "source": [
        "pca = PCA(160,svd_solver='randomized') # Version rapida para calculo de la matriz de covarianza (SVD), para grandes dimensiones.\n",
        "pca.fit(X)"
      ],
      "execution_count": 24,
      "outputs": [
        {
          "output_type": "execute_result",
          "data": {
            "text/plain": [
              "PCA(copy=True, iterated_power='auto', n_components=160, random_state=None,\n",
              "    svd_solver='randomized', tol=0.0, whiten=False)"
            ]
          },
          "metadata": {
            "tags": []
          },
          "execution_count": 24
        }
      ]
    },
    {
      "cell_type": "code",
      "metadata": {
        "colab": {
          "base_uri": "https://localhost:8080/",
          "height": 293
        },
        "id": "sg_vF7JqzK6f",
        "outputId": "ba6802d8-a9cd-475d-cb15-be4f2bfc965c"
      },
      "source": [
        "projected = pca.fit_transform(X)\n",
        "plt.plot(np.cumsum(pca.explained_variance_))"
      ],
      "execution_count": 25,
      "outputs": [
        {
          "output_type": "execute_result",
          "data": {
            "text/plain": [
              "[<matplotlib.lines.Line2D at 0x7f901e97fc50>]"
            ]
          },
          "metadata": {
            "tags": []
          },
          "execution_count": 25
        },
        {
          "output_type": "display_data",
          "data": {
            "image/png": "[encoded data removed]",
            "text/plain": [
              "<Figure size 432x288 with 1 Axes>"
            ]
          },
          "metadata": {
            "tags": [],
            "needs_background": "light"
          }
        }
      ]
    },
    {
      "cell_type": "code",
      "metadata": {
        "colab": {
          "base_uri": "https://localhost:8080/",
          "height": 279
        },
        "id": "VZR1mCpuzK6g",
        "outputId": "94b7b7e9-158e-4815-fdb3-e8965e755c6b"
      },
      "source": [
        "plt.plot(np.cumsum(pca.explained_variance_ratio_))\n",
        "plt.xlabel('number of components')\n",
        "plt.ylabel('cumulative explained variance');"
      ],
      "execution_count": 26,
      "outputs": [
        {
          "output_type": "display_data",
          "data": {
            "image/png": "[encoded data removed]",
            "text/plain": [
              "<Figure size 432x288 with 1 Axes>"
            ]
          },
          "metadata": {
            "tags": [],
            "needs_background": "light"
          }
        }
      ]
    },
    {
      "cell_type": "code",
      "metadata": {
        "colab": {
          "base_uri": "https://localhost:8080/",
          "height": 252
        },
        "id": "5sar9OQ8zK6g",
        "outputId": "4467c7fc-df65-4262-e7da-10cab928c7f8"
      },
      "source": [
        "fig, axes = plt.subplots(3, 8, figsize=(9, 4),\n",
        "                         subplot_kw={'xticks':[], 'yticks':[]},\n",
        "                         gridspec_kw=dict(hspace=0.1, wspace=0.1))\n",
        "for i, ax in enumerate(axes.flat):\n",
        "    ax.imshow(pca.components_[i].reshape(62, 47), cmap='bone')"
      ],
      "execution_count": 27,
      "outputs": [
        {
          "output_type": "display_data",
          "data": {
            "image/png": "[encoded data removed]",
            "text/plain": [
              "<Figure size 648x288 with 24 Axes>"
            ]
          },
          "metadata": {
            "tags": []
          }
        }
      ]
    },
    {
      "cell_type": "markdown",
      "metadata": {
        "id": "PPbqnQVFc_tu"
      },
      "source": [
        "## Observacion\n",
        "\n",
        "* se evidencia al visualizar las componentes principales de los rosotros que hay ciertos rasgos más importantes que otros, en general suele ser la iluminacion, la boca, la nariz y los ojos, ademas de que estos cambian segun su expresión, angulo e iluminación."
      ]
    },
    {
      "cell_type": "code",
      "metadata": {
        "id": "YLwVrCg0zK6g"
      },
      "source": [
        "components = pca.transform(X)\n",
        "projected = pca.inverse_transform(components)"
      ],
      "execution_count": 28,
      "outputs": []
    },
    {
      "cell_type": "code",
      "metadata": {
        "colab": {
          "base_uri": "https://localhost:8080/",
          "height": 171
        },
        "id": "7AYUMPVRzK6g",
        "outputId": "25b74513-d7eb-4efc-9002-4df9327cf256"
      },
      "source": [
        "# Plot the results\n",
        "fig, ax = plt.subplots(2, 10, figsize=(10, 2.5),\n",
        "                       subplot_kw={'xticks':[], 'yticks':[]},\n",
        "                       gridspec_kw=dict(hspace=0.1, wspace=0.1))\n",
        "for i in range(10):\n",
        "    ax[0, i].imshow(faces.data[i].reshape(62, 47), cmap='binary_r')\n",
        "    ax[1, i].imshow(projected[i].reshape(62, 47), cmap='binary_r')\n",
        "    \n",
        "ax[0, 0].set_ylabel('full-dim\\ninput')\n",
        "ax[1, 0].set_ylabel('160-dim\\nreconstruction');"
      ],
      "execution_count": 29,
      "outputs": [
        {
          "output_type": "display_data",
          "data": {
            "image/png": "[encoded data removed]",
            "text/plain": [
              "<Figure size 720x180 with 20 Axes>"
            ]
          },
          "metadata": {
            "tags": []
          }
        }
      ]
    },
    {
      "cell_type": "markdown",
      "metadata": {
        "id": "ZYA5HyykdZm5"
      },
      "source": [
        "## Observacion\n",
        "\n",
        "* al reonstruir las caras utilizando los 160 componentes vemos que se ha perdido definicion en la imagen y se ven un poco más borrosas."
      ]
    },
    {
      "cell_type": "markdown",
      "metadata": {
        "id": "biGT75byUgRX"
      },
      "source": [
        "## **Bayesiano**"
      ]
    },
    {
      "cell_type": "code",
      "metadata": {
        "colab": {
          "base_uri": "https://localhost:8080/"
        },
        "id": "DIGALUytzK6g",
        "outputId": "7b3dcf44-9f20-4b43-938a-1ed5c92e0e28"
      },
      "source": [
        "X_Train, X_Test, Etiquetas_Train, Etiquetas_Test = train_test_split(projected,Etiquetas,test_size = 0.2) \n",
        "\n",
        "# Se crea el modelo \n",
        "model = GaussianNB() # Verificar cuales son los parametros que tiene este clasificador.\n",
        "# Se entrena el modelo\n",
        "model.fit(X_Train,Etiquetas_Train)\n",
        "# Se realiza una predicción de las etiquetas\n",
        "yEst = model.predict(X_Test)\n",
        "\n",
        "\n",
        "print('Accuracy (Test): ', accuracy_score(Etiquetas_Test,yEst))\n",
        "print('Confunsion Matrix (Test): \\n', confusion_matrix(Etiquetas_Test,yEst))\n",
        "\n",
        "accuracy = model.score(X_Train, Etiquetas_Train)\n",
        "print(\"Train accuracy = \", accuracy * 100, \"%\")\n",
        "accuracy = model.score(X_Test, Etiquetas_Test)\n",
        "print(\"Test accuracy = \", accuracy * 100, \"%\")"
      ],
      "execution_count": 30,
      "outputs": [
        {
          "output_type": "stream",
          "text": [
            "Accuracy (Test):  0.43333333333333335\n",
            "Confunsion Matrix (Test): \n",
            " [[ 3  5  1  1  0  2  0  3]\n",
            " [ 8 27  3  4  0  4  2  5]\n",
            " [ 2  3 12  3  2  1  0  0]\n",
            " [ 2  6  5 40  6 17 11 12]\n",
            " [ 1  0  1  2  6  4  2  7]\n",
            " [ 0  3  0  2  0  8  1  3]\n",
            " [ 0  0  0  1  0  2  6  1]\n",
            " [ 3  5  1  2  1  2  1 15]]\n",
            "Train accuracy =  49.35064935064935 %\n",
            "Test accuracy =  43.333333333333336 %\n"
          ],
          "name": "stdout"
        }
      ]
    },
    {
      "cell_type": "markdown",
      "metadata": {
        "id": "BpJ620UVd2dQ"
      },
      "source": [
        "## Observacion\n",
        "\n",
        "* Del modelo bayesiano obtenemos un accuracy entre 43% al 54% de entrenamiento y un accuracy de validacion en un rango similar, sin embargo siempre nos arroja un acurracy de validacion menor que el de entrenamiento."
      ]
    },
    {
      "cell_type": "markdown",
      "metadata": {
        "id": "25HqPYJ2UpU-"
      },
      "source": [
        "## **Regresin logistica**"
      ]
    },
    {
      "cell_type": "code",
      "metadata": {
        "colab": {
          "base_uri": "https://localhost:8080/"
        },
        "id": "ma-edFMLzK6g",
        "outputId": "0ec3d4e4-c83e-48b7-8dfd-f00a269e3041"
      },
      "source": [
        "X_Train, X_Test, Etiquetas_Train, Etiquetas_Test = train_test_split(projected,Etiquetas,test_size = 0.2) \n",
        "\n",
        "# Se crea el modelo \n",
        "modelRL = LogisticRegression()\n",
        "# Se entrena el modelo\n",
        "modelRL.fit(X_Train, Etiquetas_Train)\n",
        "# Se realiza una predicción\n",
        "yEst = modelRL.predict(X_Test)\n",
        "\n",
        "print('Accuracy (Test): ', accuracy_score(Etiquetas_Test,yEst))\n",
        "print('Confunsion Matrix (Train): \\n', confusion_matrix(Etiquetas_Test,yEst))\n",
        "\n",
        "EtqTest = modelRL.predict(X_Test)\n",
        "cMAT = confusion_matrix(Etiquetas_Test,EtqTest)\n",
        "cMAT.view()\n",
        "\n",
        "accuracy = modelRL.score(X_Train, Etiquetas_Train)\n",
        "print(\"Train accuracy = \", accuracy * 100, \"%\")\n",
        "accuracy = modelRL.score(X_Test, Etiquetas_Test)\n",
        "print(\"Test accuracy = \", accuracy * 100, \"%\")\n",
        "\n",
        "print('ACC test: ',accuracy_score(Etiquetas_Test,EtqTest))"
      ],
      "execution_count": 31,
      "outputs": [
        {
          "output_type": "stream",
          "text": [
            "Accuracy (Test):  0.8074074074074075\n",
            "Confunsion Matrix (Train): \n",
            " [[12  2  0  0  0  1  0  0]\n",
            " [ 2 34  1  3  0  1  0  3]\n",
            " [ 1  2 22  2  2  0  0  2]\n",
            " [ 0  5  4 91  2  1  2  3]\n",
            " [ 1  0  1  2 15  0  0  0]\n",
            " [ 0  1  0  1  1 14  0  0]\n",
            " [ 0  0  0  0  0  1 11  0]\n",
            " [ 0  0  0  2  3  0  0 19]]\n",
            "Train accuracy =  97.30983302411875 %\n",
            "Test accuracy =  80.74074074074075 %\n",
            "ACC test:  0.8074074074074075\n"
          ],
          "name": "stdout"
        },
        {
          "output_type": "stream",
          "text": [
            "/usr/local/lib/python3.6/dist-packages/sklearn/linear_model/_logistic.py:940: ConvergenceWarning: lbfgs failed to converge (status=1):\n",
            "STOP: TOTAL NO. of ITERATIONS REACHED LIMIT.\n",
            "\n",
            "Increase the number of iterations (max_iter) or scale the data as shown in:\n",
            "    https://scikit-learn.org/stable/modules/preprocessing.html\n",
            "Please also refer to the documentation for alternative solver options:\n",
            "    https://scikit-learn.org/stable/modules/linear_model.html#logistic-regression\n",
            "  extra_warning_msg=_LOGISTIC_SOLVER_CONVERGENCE_MSG)\n"
          ],
          "name": "stderr"
        }
      ]
    },
    {
      "cell_type": "markdown",
      "metadata": {
        "id": "wXVLmvhHeT4s"
      },
      "source": [
        "## Observacion\n",
        "\n",
        "* Del modelo de regresion lineal obtenemos un accuracy entre 96%-97% de entrenamiento y un accuracy de validacion en un rango entre 79%-84%."
      ]
    },
    {
      "cell_type": "markdown",
      "metadata": {
        "id": "ODcptAWMfoiD"
      },
      "source": [
        "## conclusiones\n",
        "\n",
        "* El mejor modelo para las dos aplicaciones que tuvimos fue el de regresion logisitica.\n",
        "\n",
        "* PCA esmuy util que podemos reducir significativamente la cantidad de caracteristicas en una base de datos sin perder demasiada información.\n",
        "\n",
        "* la clasificacion de un conjunto de datos con PCA y sin PCA serán muy similares en tanto que la desviacion explicada no baje demasiado al reducir la cantidad de dimensiones, en nuestro caso no dejamos que la desviacion explicada bajara del 95%\n",
        "\n",
        "* Para realizar el proceso de clasificacion con los modelos bayesiano y de regresion logistica es mejor usar PCA ya que con este nos arroja valores exactitud más altos.\n",
        "\n",
        "* Los valores de exactitud tanto de entrenamiento como de validacion para el sistema de análisis de señales fisiológicas en el contexto emocional son muy bajos, esto se debe a que aún falta mucha investigación en este campo ya que es un area muy verde del analisis de datos.\n",
        "\n",
        "* La clasificacion de emociones no fue muy buena, sin embargo no es un problema de los modelos, más bien parece ser un problema de investigación en el cual se debe estudiar un poco más el como poder, apartir de las señales fisiologicas, determinar que emocion esta sintiendo el sujeto en cuestion. "
      ]
    }
  ]
}